{
 "cells": [
  {
   "cell_type": "code",
   "execution_count": null,
   "metadata": {
    "vscode": {
     "languageId": "plaintext"
    }
   },
   "outputs": [],
   "source": [
    "import tensorflow as tf\n",
    "import numpy as np\n",
    "import matplotlib.pyplot as plt\n",
    "from sklearn.metrics import confusion_matrix, ConfusionMatrixDisplay\n",
    "\n",
    "true_labels = []\n",
    "pred_labels = []\n",
    "\n",
    "for images, labels in test_dataset:\n",
    "    predictions = model.predict(images)\n",
    "    predicted_classes = np.argmax(predictions, axis=1)  # Classe prédite pour chaque image\n",
    "\n",
    "    true_labels.extend(labels.numpy())\n",
    "    pred_labels.extend(predicted_classes)\n",
    "\n",
    "# Étape 2 : Calculer la matrice de confusion\n",
    "cm = confusion_matrix(true_labels, pred_labels)\n",
    "class_names = ['glioma_tumor', 'pituitary_tumor', 'no_tumor', 'meningioma_tumor']  # Noms des classes\n",
    "\n",
    "# Étape 3 : Afficher la matrice de confusion\n",
    "disp = ConfusionMatrixDisplay(confusion_matrix=cm, display_labels=class_names)\n",
    "disp.plot(cmap=plt.cm.Blues)\n",
    "plt.title(\"Matrice de Confusion\")\n",
    "plt.show()\n"
   ]
  }
 ],
 "metadata": {
  "language_info": {
   "name": "python"
  }
 },
 "nbformat": 4,
 "nbformat_minor": 2
}
